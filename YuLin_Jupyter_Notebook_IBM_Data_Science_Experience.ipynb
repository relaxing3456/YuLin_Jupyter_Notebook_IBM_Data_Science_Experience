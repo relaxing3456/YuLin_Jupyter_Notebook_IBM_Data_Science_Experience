{
 "cells": [
  {
   "cell_type": "markdown",
   "id": "caed7f37",
   "metadata": {},
   "source": [
    "# Yu-Lin's Jupyter Notebook - IBM Data Science Experience"
   ]
  },
  {
   "cell_type": "markdown",
   "id": "2c0017b4",
   "metadata": {},
   "source": [
    "#### My passion for data science stems from my enthusiasm for crafting narratives using data, and I find joy in utilizing data to breathe life into these stories. "
   ]
  },
  {
   "cell_type": "markdown",
   "id": "ae5c307e",
   "metadata": {},
   "source": [
    "\n",
    "</n><font size=5 face=雅黑>Some of the popular languages that data scientists use are:</font></n><br>\n",
    "</n><font face=雅黑>1.Python</font></n><br>\n",
    "</n><font face=雅黑>2.R</font></n><br>\n",
    "<font face=雅黑>3.SQL</font><br>\n",
    "<font face=雅黑>4.Julia</font><br>\n",
    "<font face=雅黑>5.Java</font><br>\n",
    "<font face=雅黑>6.Javascript</font><br>\n",
    "<font face=雅黑>7.Scala</font><br>\n",
    "<font face=雅黑>8.C++</font><br>\n",
    "<font face=雅黑>9.php</font><br>\n",
    "<font face=雅黑>10.Visual Basic</font>"
   ]
  },
  {
   "cell_type": "markdown",
   "id": "c45e64db",
   "metadata": {},
   "source": [
    "\n",
    "</n><font size=5 face=雅黑>Some of the commonly used libraries that data scientists use are:</font></n><br>\n",
    "</n><font face=雅黑>1.Pandas</font></n><br>\n",
    "</n><font face=雅黑>2.Matplotlib</font></n><br>\n",
    "<font face=雅黑>3.Numpy</font><br>\n",
    "<font face=雅黑>4.Seaborn</font><br>\n",
    "<font face=雅黑>5.ggplot2</font><br>\n",
    "<font face=雅黑>6.Scikit-learn</font><br>\n"
   ]
  },
  {
   "cell_type": "code",
   "execution_count": 17,
   "id": "71e5bf7a",
   "metadata": {},
   "outputs": [
    {
     "data": {
      "text/markdown": [
       "\n",
       "\n",
       "| data science tools |\n",
       "|-|\n",
       "| anaconda |\n",
       "| Jupyter Notebook |\n",
       "| R Studio|\n",
       "| Spyder "
      ],
      "text/plain": [
       "<IPython.core.display.Markdown object>"
      ]
     },
     "metadata": {},
     "output_type": "display_data"
    }
   ],
   "source": [
    "from IPython.display import Markdown, display\n",
    "table = \"\\n\\n| data science tools |\\n|-|\\n| anaconda |\\n| Jupyter Notebook |\\n| R Studio|\\n| Spyder \"\n",
    "display(Markdown(table))"
   ]
  },
  {
   "cell_type": "markdown",
   "id": "d306b7c1",
   "metadata": {},
   "source": [
    "### Below are examples of evaluating arithmetic expressions in Python"
   ]
  },
  {
   "cell_type": "code",
   "execution_count": 19,
   "id": "5b7f145e",
   "metadata": {},
   "outputs": [
    {
     "data": {
      "text/plain": [
       "110"
      ]
     },
     "execution_count": 19,
     "metadata": {},
     "output_type": "execute_result"
    }
   ],
   "source": [
    "(6*9)+56"
   ]
  },
  {
   "cell_type": "markdown",
   "id": "33880789",
   "metadata": {},
   "source": [
    "<font size=3 face=雅黑>this is a example to multiply and add integers</font>"
   ]
  },
  {
   "cell_type": "code",
   "execution_count": 22,
   "id": "1bc9aa5c",
   "metadata": {},
   "outputs": [
    {
     "name": "stdout",
     "output_type": "stream",
     "text": [
      " 300 minutes equal to 5.0 hours\n"
     ]
    }
   ],
   "source": [
    "minutes = 300\n",
    "hours = minutes / 60\n",
    "print (f\" {minutes} minutes equal to {hours} hours\")"
   ]
  },
  {
   "cell_type": "markdown",
   "id": "3899b292",
   "metadata": {},
   "source": [
    "<font size=3 face=雅黑>this convert minutes to hours</font>"
   ]
  },
  {
   "cell_type": "markdown",
   "id": "f48b90f5",
   "metadata": {},
   "source": [
    "**<font>Objectives</font>**<br>\n",
    "<font face=雅黑>1.C++ </font><br>\n",
    "<font face=雅黑>2.Python </font><br>\n",
    "<font face=雅黑>3.php </font><br>\n",
    "<font face=雅黑>4.R </font><br>\n",
    "<font face=雅黑>5.Java </font><br>"
   ]
  },
  {
   "cell_type": "markdown",
   "id": "d9948f94",
   "metadata": {},
   "source": [
    "**<font size=5 > Author: </font>**<br>\n",
    "<font size=3 face=雅黑> Yu-Lin Yeh </font><br>"
   ]
  },
  {
   "cell_type": "code",
   "execution_count": null,
   "id": "cf9fd312",
   "metadata": {},
   "outputs": [],
   "source": []
  }
 ],
 "metadata": {
  "kernelspec": {
   "display_name": "Python 3 (ipykernel)",
   "language": "python",
   "name": "python3"
  },
  "language_info": {
   "codemirror_mode": {
    "name": "ipython",
    "version": 3
   },
   "file_extension": ".py",
   "mimetype": "text/x-python",
   "name": "python",
   "nbconvert_exporter": "python",
   "pygments_lexer": "ipython3",
   "version": "3.9.13"
  }
 },
 "nbformat": 4,
 "nbformat_minor": 5
}
